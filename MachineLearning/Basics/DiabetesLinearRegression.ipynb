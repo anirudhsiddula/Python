{
 "cells": [
  {
   "cell_type": "markdown",
   "id": "f2f546f9",
   "metadata": {},
   "source": [
    "# Linear Regression"
   ]
  },
  {
   "cell_type": "code",
   "execution_count": 1,
   "id": "2efee4be",
   "metadata": {},
   "outputs": [],
   "source": [
    "#importing libraries\n",
    "import pandas as pd\n",
    "from matplotlib import pyplot as plt\n",
    "from sklearn import datasets\n",
    "from sklearn.preprocessing import MinMaxScaler\n",
    "from sklearn.model_selection import train_test_split\n",
    "from sklearn.linear_model import LinearRegression"
   ]
  },
  {
   "cell_type": "code",
   "execution_count": 2,
   "id": "dfc44d94",
   "metadata": {},
   "outputs": [
    {
     "data": {
      "text/plain": [
       "dict_keys(['data', 'target', 'frame', 'DESCR', 'feature_names', 'data_filename', 'target_filename'])"
      ]
     },
     "execution_count": 2,
     "metadata": {},
     "output_type": "execute_result"
    }
   ],
   "source": [
    "#creating a Linear Regression object\n",
    "regg = LinearRegression()\n",
    "\n",
    "#loading Diabetes dataset from sklearn\n",
    "data = datasets.load_diabetes()\n",
    "data.keys()\n"
   ]
  },
  {
   "cell_type": "code",
   "execution_count": 3,
   "id": "1d3593b8",
   "metadata": {},
   "outputs": [
    {
     "name": "stdout",
     "output_type": "stream",
     "text": [
      "[(0.5864501344746884, 'bmi'), (0.5658834252428095, 's5'), (0.44148384893088616, 'bp'), (0.43045288474477267, 's4'), (0.3947892506709179, 's3'), (0.38248348424858064, 's6'), (0.2120224810145507, 's1'), (0.18788875071891978, 'age'), (0.17405358696874237, 's2'), (0.04306199845160543, 'sex')]\n"
     ]
    }
   ],
   "source": [
    "#exracting features and defining them as DataFrame\n",
    "features=pd.DataFrame(data.data, columns = data.feature_names)\n",
    "\n",
    "#extracting target values from diabetes dataset\n",
    "target=pd.DataFrame(data.target,columns=['target'])\n",
    "\n",
    "#concatenating features and target into a single dataframe\n",
    "df=pd.concat([features,target],axis=1)\n",
    "\n",
    "#performing pearson correlation on the dataframe\n",
    "corr=df.corr('pearson')\n",
    "\n",
    "#extracting target correlation values for all features\n",
    "corrs = [abs(corr[i]['target']) for i in list(features)]\n",
    "\n",
    "#zipping them into tuples and sorting based on correlation to find the most correlated\n",
    "l = list(zip(corrs,list(features)))\n",
    "l.sort(key=lambda x:x[0], reverse=True)\n",
    "print(l)"
   ]
  },
  {
   "cell_type": "code",
   "execution_count": 4,
   "id": "f32994b4",
   "metadata": {},
   "outputs": [
    {
     "data": {
      "text/plain": [
       "LinearRegression()"
      ]
     },
     "execution_count": 4,
     "metadata": {},
     "output_type": "execute_result"
    }
   ],
   "source": [
    "#BMI shows the highest correlation hence using bmi for Linear Regression\n",
    "xtr, xte, ytr, yte = train_test_split(features['bmi'].values.reshape(-1,1),target)\n",
    "\n",
    "#Fitting the model\n",
    "regg.fit(xtr,ytr)"
   ]
  },
  {
   "cell_type": "code",
   "execution_count": 5,
   "id": "4f6ae5ac",
   "metadata": {},
   "outputs": [
    {
     "data": {
      "text/plain": [
       "<matplotlib.legend.Legend at 0x1e5787b1190>"
      ]
     },
     "execution_count": 5,
     "metadata": {},
     "output_type": "execute_result"
    },
    {
     "data": {
      "image/png": "[encoded data removed]",
      "text/plain": [
       "<Figure size 432x288 with 1 Axes>"
      ]
     },
     "metadata": {
      "needs_background": "light"
     },
     "output_type": "display_data"
    }
   ],
   "source": [
    "#predicting the target from test features. \n",
    "ypr=regg.predict(xte)\n",
    "\n",
    "#plotting a scatter plot for actual test values\n",
    "plt.scatter(xte,yte, color = 'black', marker = '.', label='Actual Test Data')\n",
    "plt.title('BMI(Mean Centralized and Scaled) vs Sugar Level')\n",
    "plt.xlabel('BMI')\n",
    "plt.ylabel('Sugar Level')\n",
    "\n",
    "#plotting the Linear Regression line on the plot\n",
    "plt.plot(xtr, regg.predict(xtr), color = 'blue', label='Linear Regression Line')\n",
    "plt.legend()"
   ]
  },
  {
   "cell_type": "code",
   "execution_count": 7,
   "id": "655dc298",
   "metadata": {},
   "outputs": [
    {
     "data": {
      "text/plain": [
       "0.2695346215424107"
      ]
     },
     "execution_count": 7,
     "metadata": {},
     "output_type": "execute_result"
    }
   ],
   "source": [
    "#Scoring the model based on Actual values with predicted\n",
    "regg.score(xte,yte)\n",
    "#The resulting score is considered poor. Finding a better regression model is recommended"
   ]
  }
 ],
 "metadata": {
  "kernelspec": {
   "display_name": "Python 3",
   "language": "python",
   "name": "python3"
  },
  "language_info": {
   "codemirror_mode": {
    "name": "ipython",
    "version": 3
   },
   "file_extension": ".py",
   "mimetype": "text/x-python",
   "name": "python",
   "nbconvert_exporter": "python",
   "pygments_lexer": "ipython3",
   "version": "3.8.8"
  }
 },
 "nbformat": 4,
 "nbformat_minor": 5
}
