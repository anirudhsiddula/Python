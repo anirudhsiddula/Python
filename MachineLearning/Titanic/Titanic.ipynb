{
 "cells": [
  {
   "cell_type": "markdown",
   "id": "ccd2a908",
   "metadata": {},
   "source": [
    "# Predicting Survival from Titanic Dataset"
   ]
  },
  {
   "cell_type": "code",
   "execution_count": 1,
   "id": "1ff2e822",
   "metadata": {},
   "outputs": [],
   "source": [
    "#Importing Libraries\n",
    "import pandas as pd\n",
    "import seaborn as sb\n",
    "from sklearn.model_selection import train_test_split"
   ]
  },
  {
   "cell_type": "code",
   "execution_count": 2,
   "id": "a0b9a094",
   "metadata": {},
   "outputs": [
    {
     "data": {
      "text/html": [
       "<div>\n",
       "<style scoped>\n",
       "    .dataframe tbody tr th:only-of-type {\n",
       "        vertical-align: middle;\n",
       "    }\n",
       "\n",
       "    .dataframe tbody tr th {\n",
       "        vertical-align: top;\n",
       "    }\n",
       "\n",
       "    .dataframe thead th {\n",
       "        text-align: right;\n",
       "    }\n",
       "</style>\n",
       "<table border=\"1\" class=\"dataframe\">\n",
       "  <thead>\n",
       "    <tr style=\"text-align: right;\">\n",
       "      <th></th>\n",
       "      <th>Survived</th>\n",
       "      <th>Pclass</th>\n",
       "      <th>Name</th>\n",
       "      <th>Sex</th>\n",
       "      <th>Age</th>\n",
       "      <th>Siblings/Spouses Aboard</th>\n",
       "      <th>Parents/Children Aboard</th>\n",
       "      <th>Fare</th>\n",
       "      <th>Unnamed: 8</th>\n",
       "      <th>Unnamed: 9</th>\n",
       "    </tr>\n",
       "  </thead>\n",
       "  <tbody>\n",
       "    <tr>\n",
       "      <th>0</th>\n",
       "      <td>0</td>\n",
       "      <td>3.0</td>\n",
       "      <td>Mr. Owen Harris Braund</td>\n",
       "      <td>male</td>\n",
       "      <td>22.0</td>\n",
       "      <td>1.0</td>\n",
       "      <td>0</td>\n",
       "      <td>7.2500</td>\n",
       "      <td>NaN</td>\n",
       "      <td>NaN</td>\n",
       "    </tr>\n",
       "    <tr>\n",
       "      <th>1</th>\n",
       "      <td>1</td>\n",
       "      <td>1.0</td>\n",
       "      <td>Mrs. John Bradley (Florence Briggs Thayer) Cum...</td>\n",
       "      <td>female</td>\n",
       "      <td>38.0</td>\n",
       "      <td>1.0</td>\n",
       "      <td>0</td>\n",
       "      <td>71.2833</td>\n",
       "      <td>NaN</td>\n",
       "      <td>NaN</td>\n",
       "    </tr>\n",
       "    <tr>\n",
       "      <th>2</th>\n",
       "      <td>1</td>\n",
       "      <td>3.0</td>\n",
       "      <td>Miss. Laina Heikkinen</td>\n",
       "      <td>female</td>\n",
       "      <td>26.0</td>\n",
       "      <td>0.0</td>\n",
       "      <td>0</td>\n",
       "      <td>7.9250</td>\n",
       "      <td>NaN</td>\n",
       "      <td>NaN</td>\n",
       "    </tr>\n",
       "    <tr>\n",
       "      <th>3</th>\n",
       "      <td>1</td>\n",
       "      <td>1.0</td>\n",
       "      <td>Mrs. Jacques Heath (Lily May Peel) Futrelle</td>\n",
       "      <td>female</td>\n",
       "      <td>35.0</td>\n",
       "      <td>1.0</td>\n",
       "      <td>0</td>\n",
       "      <td>53.1000</td>\n",
       "      <td>NaN</td>\n",
       "      <td>NaN</td>\n",
       "    </tr>\n",
       "    <tr>\n",
       "      <th>4</th>\n",
       "      <td>0</td>\n",
       "      <td>3.0</td>\n",
       "      <td>Mr. William Henry Allen</td>\n",
       "      <td>male</td>\n",
       "      <td>35.0</td>\n",
       "      <td>0.0</td>\n",
       "      <td>0</td>\n",
       "      <td>8.0500</td>\n",
       "      <td>NaN</td>\n",
       "      <td>0.0</td>\n",
       "    </tr>\n",
       "  </tbody>\n",
       "</table>\n",
       "</div>"
      ],
      "text/plain": [
       "  Survived  Pclass                                               Name     Sex  \\\n",
       "0        0     3.0                             Mr. Owen Harris Braund    male   \n",
       "1        1     1.0  Mrs. John Bradley (Florence Briggs Thayer) Cum...  female   \n",
       "2        1     3.0                              Miss. Laina Heikkinen  female   \n",
       "3        1     1.0        Mrs. Jacques Heath (Lily May Peel) Futrelle  female   \n",
       "4        0     3.0                            Mr. William Henry Allen    male   \n",
       "\n",
       "    Age  Siblings/Spouses Aboard  Parents/Children Aboard     Fare  \\\n",
       "0  22.0                      1.0                        0   7.2500   \n",
       "1  38.0                      1.0                        0  71.2833   \n",
       "2  26.0                      0.0                        0   7.9250   \n",
       "3  35.0                      1.0                        0  53.1000   \n",
       "4  35.0                      0.0                        0   8.0500   \n",
       "\n",
       "   Unnamed: 8  Unnamed: 9  \n",
       "0         NaN         NaN  \n",
       "1         NaN         NaN  \n",
       "2         NaN         NaN  \n",
       "3         NaN         NaN  \n",
       "4         NaN         0.0  "
      ]
     },
     "execution_count": 2,
     "metadata": {},
     "output_type": "execute_result"
    }
   ],
   "source": [
    "#Importing csv data\n",
    "df = pd.read_csv('titanic1.csv')\n",
    "df.head()"
   ]
  },
  {
   "cell_type": "code",
   "execution_count": 3,
   "id": "0f4eb065",
   "metadata": {},
   "outputs": [
    {
     "data": {
      "text/html": [
       "<div>\n",
       "<style scoped>\n",
       "    .dataframe tbody tr th:only-of-type {\n",
       "        vertical-align: middle;\n",
       "    }\n",
       "\n",
       "    .dataframe tbody tr th {\n",
       "        vertical-align: top;\n",
       "    }\n",
       "\n",
       "    .dataframe thead th {\n",
       "        text-align: right;\n",
       "    }\n",
       "</style>\n",
       "<table border=\"1\" class=\"dataframe\">\n",
       "  <thead>\n",
       "    <tr style=\"text-align: right;\">\n",
       "      <th></th>\n",
       "      <th>Survived</th>\n",
       "      <th>Pclass</th>\n",
       "      <th>Sex</th>\n",
       "      <th>Age</th>\n",
       "      <th>Siblings/Spouses Aboard</th>\n",
       "      <th>Parents/Children Aboard</th>\n",
       "      <th>Fare</th>\n",
       "    </tr>\n",
       "  </thead>\n",
       "  <tbody>\n",
       "    <tr>\n",
       "      <th>0</th>\n",
       "      <td>0</td>\n",
       "      <td>3.0</td>\n",
       "      <td>male</td>\n",
       "      <td>22.0</td>\n",
       "      <td>1.0</td>\n",
       "      <td>0</td>\n",
       "      <td>7.2500</td>\n",
       "    </tr>\n",
       "    <tr>\n",
       "      <th>1</th>\n",
       "      <td>1</td>\n",
       "      <td>1.0</td>\n",
       "      <td>female</td>\n",
       "      <td>38.0</td>\n",
       "      <td>1.0</td>\n",
       "      <td>0</td>\n",
       "      <td>71.2833</td>\n",
       "    </tr>\n",
       "    <tr>\n",
       "      <th>2</th>\n",
       "      <td>1</td>\n",
       "      <td>3.0</td>\n",
       "      <td>female</td>\n",
       "      <td>26.0</td>\n",
       "      <td>0.0</td>\n",
       "      <td>0</td>\n",
       "      <td>7.9250</td>\n",
       "    </tr>\n",
       "    <tr>\n",
       "      <th>3</th>\n",
       "      <td>1</td>\n",
       "      <td>1.0</td>\n",
       "      <td>female</td>\n",
       "      <td>35.0</td>\n",
       "      <td>1.0</td>\n",
       "      <td>0</td>\n",
       "      <td>53.1000</td>\n",
       "    </tr>\n",
       "    <tr>\n",
       "      <th>4</th>\n",
       "      <td>0</td>\n",
       "      <td>3.0</td>\n",
       "      <td>male</td>\n",
       "      <td>35.0</td>\n",
       "      <td>0.0</td>\n",
       "      <td>0</td>\n",
       "      <td>8.0500</td>\n",
       "    </tr>\n",
       "  </tbody>\n",
       "</table>\n",
       "</div>"
      ],
      "text/plain": [
       "  Survived  Pclass     Sex   Age  Siblings/Spouses Aboard  \\\n",
       "0        0     3.0    male  22.0                      1.0   \n",
       "1        1     1.0  female  38.0                      1.0   \n",
       "2        1     3.0  female  26.0                      0.0   \n",
       "3        1     1.0  female  35.0                      1.0   \n",
       "4        0     3.0    male  35.0                      0.0   \n",
       "\n",
       "   Parents/Children Aboard     Fare  \n",
       "0                        0   7.2500  \n",
       "1                        0  71.2833  \n",
       "2                        0   7.9250  \n",
       "3                        0  53.1000  \n",
       "4                        0   8.0500  "
      ]
     },
     "execution_count": 3,
     "metadata": {},
     "output_type": "execute_result"
    }
   ],
   "source": [
    "#Dropping columns which are not correlated to surival \n",
    "#cleaning data\n",
    "\n",
    "cols_to_drop = ['Name','Unnamed: 8', 'Unnamed: 9']\n",
    "df = df.drop(cols_to_drop, axis=1)\n",
    "df.head()"
   ]
  },
  {
   "cell_type": "code",
   "execution_count": 4,
   "id": "778bdc75",
   "metadata": {},
   "outputs": [
    {
     "data": {
      "text/plain": [
       "<AxesSubplot:>"
      ]
     },
     "execution_count": 4,
     "metadata": {},
     "output_type": "execute_result"
    },
    {
     "data": {
      "image/png": "[encoded data removed]",
      "text/plain": [
       "<Figure size 432x288 with 2 Axes>"
      ]
     },
     "metadata": {
      "needs_background": "light"
     },
     "output_type": "display_data"
    }
   ],
   "source": [
    "#Checking if there are any Nulls in our dataset using seaborn\n",
    "sb.heatmap(df.isnull())"
   ]
  },
  {
   "cell_type": "code",
   "execution_count": 5,
   "id": "fc828c81",
   "metadata": {},
   "outputs": [],
   "source": [
    "#On checking the dataset I have found that there is a summary of dataset at the end. Hence dropping those row values\n",
    "df = df.dropna() "
   ]
  },
  {
   "cell_type": "code",
   "execution_count": 6,
   "id": "445d808b",
   "metadata": {},
   "outputs": [
    {
     "data": {
      "text/plain": [
       "Survived                    object\n",
       "Pclass                     float64\n",
       "Sex                           int8\n",
       "Age                        float64\n",
       "Siblings/Spouses Aboard    float64\n",
       "Parents/Children Aboard      int64\n",
       "Fare                       float64\n",
       "dtype: object"
      ]
     },
     "execution_count": 6,
     "metadata": {},
     "output_type": "execute_result"
    }
   ],
   "source": [
    "#Converting the string values in Sex column into codes\n",
    "df['Sex'] = df.Sex.astype('category').cat.codes\n",
    "df.dtypes"
   ]
  },
  {
   "cell_type": "code",
   "execution_count": 7,
   "id": "f0360024",
   "metadata": {},
   "outputs": [],
   "source": [
    "#Splitting the dataframe into features and target\n",
    "x = df.iloc[:,1:]\n",
    "y = df.iloc[:,0:1]"
   ]
  },
  {
   "cell_type": "code",
   "execution_count": 8,
   "id": "431d4f3a",
   "metadata": {},
   "outputs": [],
   "source": [
    "#Splitting the dataset into train and test dataset\n",
    "x_train, x_test, y_train, y_test = train_test_split(x,y,test_size=0.1,random_state=1)"
   ]
  },
  {
   "cell_type": "markdown",
   "id": "f94a4d4d",
   "metadata": {},
   "source": [
    "# Logistic Regression Classifier"
   ]
  },
  {
   "cell_type": "code",
   "execution_count": 9,
   "id": "75e6a9e3",
   "metadata": {},
   "outputs": [
    {
     "name": "stdout",
     "output_type": "stream",
     "text": [
      "Score for logistic solver = newton-cg is 0.797752808988764\n",
      "Score for logistic solver = lbfgs is 0.797752808988764\n",
      "Score for logistic solver = liblinear is 0.797752808988764\n",
      "Score for logistic solver = sag is 0.797752808988764\n",
      "Score for logistic solver = saga is 0.7865168539325843\n"
     ]
    }
   ],
   "source": [
    "from sklearn.linear_model import LogisticRegression\n",
    "\n",
    "#Scoring different Logistic classifier solvers\n",
    "solvers = ['newton-cg','lbfgs','liblinear','sag','saga']\n",
    "for i in solvers:\n",
    "    lg_regg = LogisticRegression(solver = i, max_iter=10000)\n",
    "    lg_regg.fit(x_train,y_train.values.ravel())\n",
    "    print('Score for logistic solver = {} is {}'.format(i,lg_regg.score(x_test,y_test)))"
   ]
  },
  {
   "cell_type": "markdown",
   "id": "b4886050",
   "metadata": {},
   "source": [
    "# Random Forest Classifier"
   ]
  },
  {
   "cell_type": "code",
   "execution_count": 10,
   "id": "d246c41e",
   "metadata": {},
   "outputs": [
    {
     "name": "stdout",
     "output_type": "stream",
     "text": [
      "Score for n_estimators = 25 is 0.7752808988764045\n",
      "Score for n_estimators = 50 is 0.8202247191011236\n",
      "Score for n_estimators = 75 is 0.8202247191011236\n",
      "Score for n_estimators = 100 is 0.797752808988764\n",
      "Score for n_estimators = 125 is 0.8314606741573034\n",
      "Score for n_estimators = 150 is 0.797752808988764\n",
      "Score for n_estimators = 175 is 0.8314606741573034\n",
      "Score for n_estimators = 200 is 0.8202247191011236\n",
      "Score for n_estimators = 225 is 0.8202247191011236\n",
      "Score for n_estimators = 250 is 0.8314606741573034\n",
      "Score for n_estimators = 275 is 0.8314606741573034\n",
      "Score for n_estimators = 300 is 0.8314606741573034\n",
      "Score for n_estimators = 325 is 0.8314606741573034\n",
      "Score for n_estimators = 350 is 0.8314606741573034\n",
      "Score for n_estimators = 375 is 0.8314606741573034\n",
      "Score for n_estimators = 400 is 0.8314606741573034\n",
      "Score for n_estimators = 425 is 0.8426966292134831\n",
      "Score for n_estimators = 450 is 0.8426966292134831\n",
      "Score for n_estimators = 475 is 0.8426966292134831\n"
     ]
    }
   ],
   "source": [
    "from sklearn.ensemble import RandomForestClassifier\n",
    "#Scoring Random forest classifier for different n_estimator values\n",
    "for i in range(25,500,25):\n",
    "    rf_class = RandomForestClassifier(n_estimators=i)\n",
    "    rf_class.fit(x_train,y_train.values.ravel())\n",
    "    print('Score for n_estimators = {} is {}'.format(i,rf_class.score(x_test,y_test)))"
   ]
  },
  {
   "cell_type": "markdown",
   "id": "c0bfebb8",
   "metadata": {},
   "source": [
    "# Support Vector Machine Classifier"
   ]
  },
  {
   "cell_type": "code",
   "execution_count": 11,
   "id": "b48de704",
   "metadata": {},
   "outputs": [
    {
     "data": {
      "text/plain": [
       "0.8202247191011236"
      ]
     },
     "execution_count": 11,
     "metadata": {},
     "output_type": "execute_result"
    }
   ],
   "source": [
    "from sklearn.svm import SVC\n",
    "#Trying SVM classifier and scoring\n",
    "svc_class = SVC(probability=True, kernel='linear')\n",
    "svc_class.fit(x_train,y_train.values.ravel())\n",
    "svc_class.score(x_test,y_test)"
   ]
  },
  {
   "cell_type": "markdown",
   "id": "69c6fdad",
   "metadata": {},
   "source": [
    "# Decision Tree Classifier"
   ]
  },
  {
   "cell_type": "code",
   "execution_count": 12,
   "id": "56ae4163",
   "metadata": {},
   "outputs": [
    {
     "name": "stdout",
     "output_type": "stream",
     "text": [
      "Score for max_depth = 1 is 0.8202247191011236\n",
      "Score for max_depth = 2 is 0.7528089887640449\n",
      "Score for max_depth = 3 is 0.8764044943820225\n",
      "Score for max_depth = 4 is 0.8314606741573034\n",
      "Score for max_depth = 5 is 0.8651685393258427\n",
      "Score for max_depth = 6 is 0.8089887640449438\n",
      "Score for max_depth = 7 is 0.8539325842696629\n"
     ]
    }
   ],
   "source": [
    "from sklearn.tree import DecisionTreeClassifier\n",
    "#Scoring Decision Tree classifier for different max_depth values\n",
    "for i in range(1,8):\n",
    "    dt_class = DecisionTreeClassifier(max_depth=i)\n",
    "    dt_class.fit(x_train,y_train.values.ravel())\n",
    "    print('Score for max_depth = {} is {}'.format(i,dt_class.score(x_test,y_test)))"
   ]
  },
  {
   "cell_type": "markdown",
   "id": "5630e1e4",
   "metadata": {},
   "source": [
    "# Conclusion: \n",
    "Decision Tree with max_depth = 3 gives 87% Accuracy"
   ]
  },
  {
   "cell_type": "code",
   "execution_count": 13,
   "id": "9bae6ab7",
   "metadata": {},
   "outputs": [
    {
     "data": {
      "text/plain": [
       "0.8764044943820225"
      ]
     },
     "execution_count": 13,
     "metadata": {},
     "output_type": "execute_result"
    }
   ],
   "source": [
    "dt_class = DecisionTreeClassifier(max_depth=3)\n",
    "dt_class.fit(x_train,y_train.values.ravel())\n",
    "dt_class.score(x_test,y_test)"
   ]
  },
  {
   "cell_type": "code",
   "execution_count": null,
   "id": "f25bbc9b",
   "metadata": {},
   "outputs": [],
   "source": []
  }
 ],
 "metadata": {
  "kernelspec": {
   "display_name": "Python 3",
   "language": "python",
   "name": "python3"
  },
  "language_info": {
   "codemirror_mode": {
    "name": "ipython",
    "version": 3
   },
   "file_extension": ".py",
   "mimetype": "text/x-python",
   "name": "python",
   "nbconvert_exporter": "python",
   "pygments_lexer": "ipython3",
   "version": "3.8.8"
  }
 },
 "nbformat": 4,
 "nbformat_minor": 5
}
