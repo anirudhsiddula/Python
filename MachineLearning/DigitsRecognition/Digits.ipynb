{
 "cells": [
  {
   "cell_type": "code",
   "execution_count": 1,
   "id": "14a9bf55",
   "metadata": {},
   "outputs": [],
   "source": [
    "#Importing Libraries\n",
    "\n",
    "import matplotlib.pyplot as plt \n",
    "import numpy as np\n",
    "from sklearn import datasets\n",
    "import pandas as pd\n",
    "from sklearn.model_selection import train_test_split\n",
    "from sklearn.neural_network import MLPClassifier\n",
    "\n",
    "#initializing digits data\n",
    "raw=datasets.load_digits()"
   ]
  },
  {
   "cell_type": "code",
   "execution_count": 2,
   "id": "0036cf55",
   "metadata": {},
   "outputs": [
    {
     "data": {
      "text/plain": [
       "['DESCR', 'data', 'feature_names', 'frame', 'images', 'target', 'target_names']"
      ]
     },
     "execution_count": 2,
     "metadata": {},
     "output_type": "execute_result"
    }
   ],
   "source": [
    "#exploring the dataset values\n",
    "dir(raw)"
   ]
  },
  {
   "cell_type": "code",
   "execution_count": 3,
   "id": "9dfd8c9e",
   "metadata": {
    "scrolled": false
   },
   "outputs": [
    {
     "name": "stdout",
     "output_type": "stream",
     "text": [
      "(1797, 8, 8)\n",
      "[[ 0.  0.  5. 13.  9.  1.  0.  0.]\n",
      " [ 0.  0. 13. 15. 10. 15.  5.  0.]\n",
      " [ 0.  3. 15.  2.  0. 11.  8.  0.]\n",
      " [ 0.  4. 12.  0.  0.  8.  8.  0.]\n",
      " [ 0.  5.  8.  0.  0.  9.  8.  0.]\n",
      " [ 0.  4. 11.  0.  1. 12.  7.  0.]\n",
      " [ 0.  2. 14.  5. 10. 12.  0.  0.]\n",
      " [ 0.  0.  6. 13. 10.  0.  0.  0.]]\n"
     ]
    }
   ],
   "source": [
    "#Printing the shape of the dataset\n",
    "print(raw.images.shape)\n",
    "# a total of 1797 numbers which are of 8x8 in size\n",
    "\n",
    "#printing raw form of one of the handwritten digit \n",
    "print(raw.images[0])"
   ]
  },
  {
   "cell_type": "code",
   "execution_count": 4,
   "id": "603a8314",
   "metadata": {},
   "outputs": [
    {
     "name": "stdout",
     "output_type": "stream",
     "text": [
      "(1797,)\n",
      "[0 1 2 ... 8 9 8]\n"
     ]
    }
   ],
   "source": [
    "#printing target shape\n",
    "print(raw.target.shape)\n",
    "\n",
    "#showing target values\n",
    "print(raw.target)"
   ]
  },
  {
   "cell_type": "code",
   "execution_count": 5,
   "id": "f30f48aa",
   "metadata": {},
   "outputs": [
    {
     "data": {
      "text/plain": [
       "Text(0.5, 1.0, 'the number is = 0')"
      ]
     },
     "execution_count": 5,
     "metadata": {},
     "output_type": "execute_result"
    },
    {
     "data": {
      "image/png": "[encoded data removed]",
      "text/plain": [
       "<Figure size 432x288 with 1 Axes>"
      ]
     },
     "metadata": {
      "needs_background": "light"
     },
     "output_type": "display_data"
    }
   ],
   "source": [
    "#plotting the first array elements(image) from dataset\n",
    "plt.imshow(raw.images[0],cmap='binary')\n",
    "plt.title('the number is = ' + str(raw.target[0]))"
   ]
  },
  {
   "cell_type": "code",
   "execution_count": 6,
   "id": "b884354a",
   "metadata": {},
   "outputs": [
    {
     "data": {
      "text/plain": [
       "Text(0.5, 1.0, 'the number is = 1')"
      ]
     },
     "execution_count": 6,
     "metadata": {},
     "output_type": "execute_result"
    },
    {
     "data": {
      "image/png": "[encoded data removed]",
      "text/plain": [
       "<Figure size 432x288 with 1 Axes>"
      ]
     },
     "metadata": {
      "needs_background": "light"
     },
     "output_type": "display_data"
    }
   ],
   "source": [
    "#plotting the second array elements(image) from dataset\n",
    "plt.imshow(raw.images[1],cmap='binary')\n",
    "plt.title('the number is = ' + str(raw.target[1]))"
   ]
  },
  {
   "cell_type": "code",
   "execution_count": 7,
   "id": "0c5ac184",
   "metadata": {},
   "outputs": [],
   "source": [
    "#Splitting the dataset into train and test dataset\n",
    "x_train, x_test, y_train, y_test = train_test_split(raw.images.reshape((len(raw.images), -1)),raw.target,test_size=0.1,random_state=1)"
   ]
  },
  {
   "cell_type": "code",
   "execution_count": 14,
   "id": "9572d3ce",
   "metadata": {
    "scrolled": true
   },
   "outputs": [
    {
     "name": "stdout",
     "output_type": "stream",
     "text": [
      "Iteration 1, loss = 2.16348336\n",
      "Iteration 2, loss = 1.67337471\n",
      "Iteration 3, loss = 1.22034822\n",
      "Iteration 4, loss = 0.91039280\n",
      "Iteration 5, loss = 0.63524277\n",
      "Iteration 6, loss = 0.48260636\n",
      "Iteration 7, loss = 0.38452949\n",
      "Iteration 8, loss = 0.32763450\n",
      "Iteration 9, loss = 0.27620325\n",
      "Iteration 10, loss = 0.28205090\n",
      "Iteration 11, loss = 0.25652832\n",
      "Iteration 12, loss = 0.22348903\n",
      "Iteration 13, loss = 0.19567029\n",
      "Iteration 14, loss = 0.17777856\n",
      "Iteration 15, loss = 0.32007703\n",
      "Iteration 16, loss = 0.22757151\n",
      "Iteration 17, loss = 0.20517186\n",
      "Iteration 18, loss = 0.20684668\n",
      "Iteration 19, loss = 0.16918523\n",
      "Iteration 20, loss = 0.16468136\n",
      "Iteration 21, loss = 0.15176890\n",
      "Iteration 22, loss = 0.13976377\n",
      "Iteration 23, loss = 0.12750925\n",
      "Iteration 24, loss = 0.12669398\n",
      "Iteration 25, loss = 0.14092140\n",
      "Iteration 26, loss = 0.14045004\n",
      "Iteration 27, loss = 0.14236832\n",
      "Iteration 28, loss = 0.16988923\n",
      "Iteration 29, loss = 0.12294885\n",
      "Iteration 30, loss = 0.12165162\n",
      "Iteration 31, loss = 0.14485939\n",
      "Iteration 32, loss = 0.12073570\n",
      "Iteration 33, loss = 0.09926341\n",
      "Iteration 34, loss = 0.09136066\n",
      "Iteration 35, loss = 0.08580884\n",
      "Iteration 36, loss = 0.08045511\n",
      "Iteration 37, loss = 0.07922421\n",
      "Iteration 38, loss = 0.07482555\n",
      "Iteration 39, loss = 0.07715105\n",
      "Iteration 40, loss = 0.07068840\n",
      "Iteration 41, loss = 0.07034575\n",
      "Iteration 42, loss = 0.08828042\n",
      "Iteration 43, loss = 0.07467235\n",
      "Iteration 44, loss = 0.06690859\n",
      "Iteration 45, loss = 0.08370747\n",
      "Iteration 46, loss = 0.06891383\n",
      "Iteration 47, loss = 0.06704334\n",
      "Iteration 48, loss = 0.06080865\n",
      "Iteration 49, loss = 0.06089074\n",
      "Iteration 50, loss = 0.07733237\n",
      "Iteration 51, loss = 0.06792381\n",
      "Iteration 52, loss = 0.05968642\n",
      "Iteration 53, loss = 0.05896957\n",
      "Iteration 54, loss = 0.05658549\n",
      "Iteration 55, loss = 0.05514957\n",
      "Iteration 56, loss = 0.05219194\n",
      "Iteration 57, loss = 0.05025938\n",
      "Iteration 58, loss = 0.04845003\n",
      "Iteration 59, loss = 0.04936623\n",
      "Iteration 60, loss = 0.04883191\n",
      "Iteration 61, loss = 0.04837665\n",
      "Iteration 62, loss = 0.04977966\n",
      "Iteration 63, loss = 0.05317414\n",
      "Iteration 64, loss = 0.04721116\n",
      "Iteration 65, loss = 0.04417867\n",
      "Iteration 66, loss = 0.04406713\n",
      "Iteration 67, loss = 0.04239020\n",
      "Iteration 68, loss = 0.04151653\n",
      "Iteration 69, loss = 0.04120148\n",
      "Iteration 70, loss = 0.04131399\n",
      "Iteration 71, loss = 0.03978449\n",
      "Iteration 72, loss = 0.03913846\n",
      "Iteration 73, loss = 0.03991010\n",
      "Iteration 74, loss = 0.04002663\n",
      "Iteration 75, loss = 0.04521782\n",
      "Iteration 76, loss = 0.04201834\n",
      "Iteration 77, loss = 0.03922225\n",
      "Iteration 78, loss = 0.04105805\n",
      "Iteration 79, loss = 0.04072720\n",
      "Iteration 80, loss = 0.03828878\n",
      "Iteration 81, loss = 0.03676135\n",
      "Iteration 82, loss = 0.03631336\n",
      "Iteration 83, loss = 0.03561310\n",
      "Iteration 84, loss = 0.03638568\n",
      "Iteration 85, loss = 0.03768754\n",
      "Iteration 86, loss = 0.03515320\n",
      "Iteration 87, loss = 0.03464902\n",
      "Iteration 88, loss = 0.03362423\n",
      "Iteration 89, loss = 0.03360855\n",
      "Iteration 90, loss = 0.03306315\n",
      "Iteration 91, loss = 0.03329107\n",
      "Iteration 92, loss = 0.03273260\n",
      "Iteration 93, loss = 0.03233450\n",
      "Iteration 94, loss = 0.03250577\n",
      "Iteration 95, loss = 0.03170477\n",
      "Iteration 96, loss = 0.03124051\n",
      "Iteration 97, loss = 0.03319320\n",
      "Iteration 98, loss = 0.03372143\n",
      "Iteration 99, loss = 0.03097211\n",
      "Iteration 100, loss = 0.03094563\n",
      "Iteration 101, loss = 0.03156268\n",
      "Iteration 102, loss = 0.03077602\n",
      "Iteration 103, loss = 0.03069848\n",
      "Iteration 104, loss = 0.03019615\n",
      "Iteration 105, loss = 0.02951682\n",
      "Iteration 106, loss = 0.02911404\n",
      "Iteration 107, loss = 0.02928863\n",
      "Iteration 108, loss = 0.02975930\n",
      "Iteration 109, loss = 0.02882175\n",
      "Iteration 110, loss = 0.02837136\n",
      "Iteration 111, loss = 0.02885665\n",
      "Iteration 112, loss = 0.02864685\n",
      "Iteration 113, loss = 0.02793607\n",
      "Iteration 114, loss = 0.02831801\n",
      "Iteration 115, loss = 0.02901093\n",
      "Iteration 116, loss = 0.02851822\n",
      "Iteration 117, loss = 0.02769008\n",
      "Iteration 118, loss = 0.02729147\n",
      "Iteration 119, loss = 0.02699975\n",
      "Iteration 120, loss = 0.02718048\n",
      "Iteration 121, loss = 0.02711790\n",
      "Iteration 122, loss = 0.02692912\n",
      "Iteration 123, loss = 0.02668856\n",
      "Iteration 124, loss = 0.02645001\n",
      "Iteration 125, loss = 0.02609255\n",
      "Iteration 126, loss = 0.02581317\n",
      "Iteration 127, loss = 0.02599491\n",
      "Iteration 128, loss = 0.02563168\n",
      "Iteration 129, loss = 0.02582615\n",
      "Iteration 130, loss = 0.02602003\n",
      "Iteration 131, loss = 0.02538292\n",
      "Iteration 132, loss = 0.02496253\n",
      "Iteration 133, loss = 0.02504464\n",
      "Iteration 134, loss = 0.02472765\n",
      "Iteration 135, loss = 0.02467784\n",
      "Iteration 136, loss = 0.02607987\n",
      "Iteration 137, loss = 0.02644030\n",
      "Iteration 138, loss = 0.02639716\n",
      "Iteration 139, loss = 0.02522141\n",
      "Iteration 140, loss = 0.02498038\n",
      "Iteration 141, loss = 0.02453762\n",
      "Iteration 142, loss = 0.02438294\n",
      "Iteration 143, loss = 0.02396333\n",
      "Iteration 144, loss = 0.02348045\n",
      "Iteration 145, loss = 0.05313121\n",
      "Iteration 146, loss = 0.02970118\n",
      "Iteration 147, loss = 0.02790816\n",
      "Iteration 148, loss = 0.02680174\n",
      "Iteration 149, loss = 0.02993669\n",
      "Iteration 150, loss = 0.03073678\n",
      "Iteration 151, loss = 0.02498922\n",
      "Iteration 152, loss = 0.02469532\n",
      "Iteration 153, loss = 0.02370167\n",
      "Iteration 154, loss = 0.02253698\n",
      "Iteration 155, loss = 0.02214845\n",
      "Iteration 156, loss = 0.02203782\n",
      "Iteration 157, loss = 0.02186891\n",
      "Iteration 158, loss = 0.02204718\n",
      "Iteration 159, loss = 0.02398788\n",
      "Iteration 160, loss = 0.02548972\n",
      "Iteration 161, loss = 0.02350326\n",
      "Iteration 162, loss = 0.02271769\n",
      "Iteration 163, loss = 0.02240615\n",
      "Iteration 164, loss = 0.02209066\n",
      "Iteration 165, loss = 0.02222589\n",
      "Iteration 166, loss = 0.02146593\n",
      "Iteration 167, loss = 0.02682314\n",
      "Iteration 168, loss = 0.02539065\n",
      "Iteration 169, loss = 0.02296164\n",
      "Iteration 170, loss = 0.02288601\n",
      "Iteration 171, loss = 0.02117414\n",
      "Iteration 172, loss = 0.02062218\n",
      "Iteration 173, loss = 0.02151365\n",
      "Iteration 174, loss = 0.02085081\n",
      "Iteration 175, loss = 0.02030285\n",
      "Iteration 176, loss = 0.02017139\n",
      "Iteration 177, loss = 0.02016076\n",
      "Iteration 178, loss = 0.01975983\n",
      "Iteration 179, loss = 0.01961997\n",
      "Iteration 180, loss = 0.01957071\n",
      "Iteration 181, loss = 0.01955546\n",
      "Iteration 182, loss = 0.01936947\n",
      "Iteration 183, loss = 0.01916584\n",
      "Iteration 184, loss = 0.01922185\n",
      "Iteration 185, loss = 0.02662718\n",
      "Iteration 186, loss = 0.02072069\n",
      "Iteration 187, loss = 0.01955101\n",
      "Iteration 188, loss = 0.01933051\n",
      "Iteration 189, loss = 0.01895208\n",
      "Iteration 190, loss = 0.01892127\n",
      "Iteration 191, loss = 0.01944429\n",
      "Iteration 192, loss = 0.01877145\n",
      "Iteration 193, loss = 0.01841076\n",
      "Iteration 194, loss = 0.02001216\n",
      "Iteration 195, loss = 0.01891445\n",
      "Iteration 196, loss = 0.01852707\n",
      "Iteration 197, loss = 0.01837577\n",
      "Iteration 198, loss = 0.01824112\n",
      "Iteration 199, loss = 0.01830656\n",
      "Iteration 200, loss = 0.01828125\n"
     ]
    },
    {
     "name": "stderr",
     "output_type": "stream",
     "text": [
      "C:\\ProgramData\\Anaconda3\\lib\\site-packages\\sklearn\\neural_network\\_multilayer_perceptron.py:614: ConvergenceWarning: Stochastic Optimizer: Maximum iterations (200) reached and the optimization hasn't converged yet.\n",
      "  warnings.warn(\n"
     ]
    },
    {
     "data": {
      "text/plain": [
       "MLPClassifier(activation='logistic', alpha=1e-06, hidden_layer_sizes=(15,),\n",
       "              learning_rate_init=0.1, random_state=20, solver='sgd',\n",
       "              verbose=True)"
      ]
     },
     "execution_count": 14,
     "metadata": {},
     "output_type": "execute_result"
    }
   ],
   "source": [
    "#Creating an MLP Classifier object\n",
    "MLPClass = MLPClassifier(hidden_layer_sizes=(15,), activation='logistic', alpha=0.000001, solver='sgd', tol=1e-4, random_state=20, learning_rate_init=.1, verbose=True)\n",
    "\n",
    "#Fitting the algorithm\n",
    "MLPClass.fit(x_train,y_train)"
   ]
  },
  {
   "cell_type": "code",
   "execution_count": 15,
   "id": "f8090bf8",
   "metadata": {},
   "outputs": [
    {
     "data": {
      "text/plain": [
       "0.95"
      ]
     },
     "execution_count": 15,
     "metadata": {},
     "output_type": "execute_result"
    }
   ],
   "source": [
    "#Accuracy score of the algorithm\n",
    "MLPClass.score(x_test,y_test)\n",
    "\n",
    "#Hence Multi Level Perceptron gives us an accuracy of 95% "
   ]
  },
  {
   "cell_type": "code",
   "execution_count": null,
   "id": "9ad05b01",
   "metadata": {},
   "outputs": [],
   "source": []
  }
 ],
 "metadata": {
  "kernelspec": {
   "display_name": "Python 3",
   "language": "python",
   "name": "python3"
  },
  "language_info": {
   "codemirror_mode": {
    "name": "ipython",
    "version": 3
   },
   "file_extension": ".py",
   "mimetype": "text/x-python",
   "name": "python",
   "nbconvert_exporter": "python",
   "pygments_lexer": "ipython3",
   "version": "3.8.8"
  }
 },
 "nbformat": 4,
 "nbformat_minor": 5
}
